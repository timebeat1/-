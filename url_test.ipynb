{
 "cells": [
  {
   "cell_type": "code",
   "execution_count": 1,
   "id": "f19c59bb",
   "metadata": {},
   "outputs": [],
   "source": [
    "import pandas as pd\n",
    "import numpy as np\n",
    "import matplotlib.pyplot as plt\n",
    "import urllib.request\n",
    "import requests\n",
    "from bs4 import BeautifulSoup\n",
    "\n",
    "from collections import Counter\n",
    "from eunjeon import Mecab\n",
    "from sklearn.model_selection import train_test_split\n",
    "\n",
    "\n",
    "from tensorflow.keras.preprocessing.text import Tokenizer\n",
    "from tensorflow.keras.preprocessing.sequence import pad_sequences\n",
    "import re\n",
    "from tensorflow.keras.layers import Embedding, Dense, LSTM, Bidirectional\n",
    "from tensorflow.keras.models import Sequential\n",
    "from tensorflow.keras.models import load_model\n",
    "from tensorflow.keras.callbacks import EarlyStopping, ModelCheckpoint\n"
   ]
  },
  {
   "cell_type": "code",
   "execution_count": 2,
   "id": "d5872178",
   "metadata": {},
   "outputs": [
    {
     "name": "stdout",
     "output_type": "stream",
     "text": [
      "전체 리뷰 개수 : 567\n",
      "                                          reviews_url\n",
      "0   https://m.blog.naver.com/08jiae?Redirect=Log&l...\n",
      "1   https://m.blog.naver.com/2058mangi?Redirect=Lo...\n",
      "2   https://m.blog.naver.com/20l60430?Redirect=Log...\n",
      "3   https://m.blog.naver.com/333goo?Redirect=Log&l...\n",
      "4   https://m.blog.naver.com/3651hit?Redirect=Log&...\n",
      "..                                                ...\n",
      "95  https://m.blog.naver.com/dldndud2714?Redirect=...\n",
      "96  https://m.blog.naver.com/dndud4738?Redirect=Lo...\n",
      "97  https://m.blog.naver.com/dndud4738?Redirect=Lo...\n",
      "98  https://m.blog.naver.com/dodenaksl?Redirect=Lo...\n",
      "99  https://m.blog.naver.com/dojin19?Redirect=Log&...\n",
      "\n",
      "[100 rows x 1 columns]\n"
     ]
    }
   ],
   "source": [
    "urllib.request.urlretrieve(\"https://raw.githubusercontent.com/timebeat1/NLP-activity-history-weekly-/main/male_url.txt\", filename=\"male_url.txt\")\n",
    "#깃허브 raw 데이터 출력입니다. https://raw.githubusercontent.com/ 뒤에 기존 git에 업로드 되어있는 파일 경로를 넣어주면 됩니다.\n",
    "total_data = pd.read_table('male_url.txt', names=['reviews_url'])\n",
    "print('전체 리뷰 개수 :',len(total_data)) # 전체 리뷰 개수 출력\n",
    "\n",
    "print(total_data[:100])"
   ]
  },
  {
   "cell_type": "code",
   "execution_count": null,
   "id": "975280e6",
   "metadata": {},
   "outputs": [],
   "source": []
  },
  {
   "cell_type": "code",
   "execution_count": null,
   "id": "646a205c",
   "metadata": {},
   "outputs": [],
   "source": []
  }
 ],
 "metadata": {
  "kernelspec": {
   "display_name": "Python 3",
   "language": "python",
   "name": "python3"
  },
  "language_info": {
   "codemirror_mode": {
    "name": "ipython",
    "version": 3
   },
   "file_extension": ".py",
   "mimetype": "text/x-python",
   "name": "python",
   "nbconvert_exporter": "python",
   "pygments_lexer": "ipython3",
   "version": "3.8.8"
  }
 },
 "nbformat": 4,
 "nbformat_minor": 5
}
